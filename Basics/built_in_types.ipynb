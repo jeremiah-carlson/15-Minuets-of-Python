{
 "cells": [
  {
   "cell_type": "markdown",
   "metadata": {},
   "source": [
    "<font color=\"green\"><h1> Built-in Types </h1></font>\n",
    "\n",
    "<h3><u>Types Covered</u></h3>\n",
    "<ul>\n",
    "    <li>String (str)\n",
    "    <li>Numeric \n",
    "        <ul>\n",
    "            <li>Float (float)\n",
    "            <li>Integer (int)\n",
    "            <li>Complex Number (complex)\n",
    "        </ul>\n",
    "    <li>Boolean (bool)\n",
    "    <li>List (list)\n",
    "    <li>Tuple (tuple)\n",
    "    <li>Range (range)\n",
    "    <li>Dictionary (dict)\n",
    "</ul> \n",
    "\n",
    "__________________________________________________________________"
   ]
  },
  {
   "cell_type": "markdown",
   "metadata": {},
   "source": [
    "<font color=\"lightgreen\"><h3>String</h3></font>\n",
    "\n",
    "\n",
    "Strings are amongst the most common python objects and can be used to store any ordered set of characters. Due to the broad readability of strings, they are often used to exchanging information between programs. Strings are can be indicated through the use of `\"\"`, `''`, or `str()`. Strings in python often contain the following special characters:\n",
    "\n",
    "**Special Characters:**\n",
    "- `\\t` -- Tab\n",
    "- `\\n` -- Line Break\n",
    "- `\\\\` -- Back Slash\n",
    "\n",
    "*Note that all of these characters start with `\\`. This character is called an escape character which indicate that it changes the meaning of the character that follows it.*"
   ]
  },
  {
   "cell_type": "code",
   "execution_count": 55,
   "metadata": {},
   "outputs": [
    {
     "name": "stdout",
     "output_type": "stream",
     "text": [
      "Hello World\n",
      "Hello World\n",
      "\n",
      "\n",
      "Hello\tWorld\n",
      "\n",
      "\n",
      "Hello\n",
      "World\n",
      "\n",
      "<class 'str'>\n"
     ]
    }
   ],
   "source": [
    "# Print Simple String\n",
    "print(\"Hello World\")\n",
    "# -- or --\n",
    "print('Hello World')\n",
    "\n",
    "# Line Break\n",
    "print(\"\\n\")\n",
    "\n",
    "# Print With special Characters\n",
    "print(\"Hello\\tWorld\")\n",
    "\n",
    "print(\"\\n\")\n",
    "\n",
    "print(\"Hello\\nWorld\\n\")\n",
    "\n",
    "# Display Type\n",
    "\n",
    "print(type(\"Hello World\"))\n"
   ]
  },
  {
   "cell_type": "markdown",
   "metadata": {},
   "source": [
    "__________________________"
   ]
  },
  {
   "cell_type": "markdown",
   "metadata": {},
   "source": [
    "<font color=\"lightgreen\"><h3>Numeric</h3></font>\n",
    "\n",
    "- **Integers** are whole numbers whether positive or negative. \n",
    "- **Floats** are decimals with high precision; although they are more precise they require a large amount of memory to store.\n",
    "- **Complex Numbers** are uncommonly used and are unlikely to be used again in any of the further exercises. \n"
   ]
  },
  {
   "cell_type": "code",
   "execution_count": 40,
   "metadata": {},
   "outputs": [
    {
     "name": "stdout",
     "output_type": "stream",
     "text": [
      "<class 'int'> \n",
      " <class 'float'> \n",
      " <class 'complex'>\n"
     ]
    }
   ],
   "source": [
    "integer = 5\n",
    "floating_point = 5.0000\n",
    "complex_number = 5+2j # This is the least commonly used\n",
    "\n",
    "print(type(integer), \"\\n\", type(floating_point), \"\\n\", type(complex_number))"
   ]
  },
  {
   "cell_type": "markdown",
   "metadata": {},
   "source": [
    "________________________________________"
   ]
  },
  {
   "cell_type": "markdown",
   "metadata": {},
   "source": [
    "<font color=\"lightgreen\"><h3>Boolean</h3></font>\n",
    "\n",
    "**Booleans** are simple truth indicators including only `True` and `False`.\n",
    "\n",
    "**Numeric Equivalents:**\n",
    "- `False` = 0\n",
    "- `True` = 1 \n",
    "\n"
   ]
  },
  {
   "cell_type": "code",
   "execution_count": 47,
   "metadata": {},
   "outputs": [
    {
     "name": "stdout",
     "output_type": "stream",
     "text": [
      "Option two.\n",
      "True False\n",
      "<class 'bool'>\n"
     ]
    }
   ],
   "source": [
    "# Boolean Use\n",
    "example = input() # Enter number here\n",
    "\n",
    "if 1 == example :\n",
    "  print('Option one.')  \n",
    "else:\n",
    "  print('Option two.') \n",
    "\n",
    "# Numeric Equivalents\n",
    "print(bool(1), bool(0))\n",
    "\n",
    "print(type(True))"
   ]
  },
  {
   "cell_type": "markdown",
   "metadata": {},
   "source": [
    "_______________________________________________________"
   ]
  },
  {
   "cell_type": "markdown",
   "metadata": {},
   "source": [
    "<font color=\"lightgreen\"><h3>Lists</h3></font>\n"
   ]
  },
  {
   "cell_type": "code",
   "execution_count": null,
   "metadata": {},
   "outputs": [],
   "source": []
  },
  {
   "cell_type": "markdown",
   "metadata": {},
   "source": [
    "___________________________________________________________________"
   ]
  },
  {
   "cell_type": "markdown",
   "metadata": {},
   "source": [
    "<font color=\"lightgreen\"><h3>Tuples</h3></font>\n"
   ]
  },
  {
   "cell_type": "code",
   "execution_count": null,
   "metadata": {},
   "outputs": [],
   "source": []
  },
  {
   "cell_type": "markdown",
   "metadata": {},
   "source": [
    "______________________________________"
   ]
  },
  {
   "cell_type": "markdown",
   "metadata": {},
   "source": [
    "<font color=\"lightgreen\"><h3>Range</h3></font>"
   ]
  },
  {
   "cell_type": "code",
   "execution_count": null,
   "metadata": {},
   "outputs": [],
   "source": []
  },
  {
   "cell_type": "markdown",
   "metadata": {},
   "source": [
    "__________________________________________________________________"
   ]
  },
  {
   "cell_type": "markdown",
   "metadata": {},
   "source": [
    "<font color=\"lightgreen\"><h3>Dictionary</h3></font>\n",
    "\n",
    "**Dictionaries** will be used often and are used to store key-value pairs. After a dictionary is created, it can be passed a key to have it return the corresponding value. In a dictionary keys must be unique where values can be repeated. "
   ]
  },
  {
   "cell_type": "code",
   "execution_count": 50,
   "metadata": {},
   "outputs": [
    {
     "name": "stdout",
     "output_type": "stream",
     "text": [
      "IL\n",
      "MN\n"
     ]
    }
   ],
   "source": [
    "# Dictionary of City to State\n",
    "\n",
    "# Creating Dictionary\n",
    "city = {\n",
    "    \"Duluth\": \"MN\",\n",
    "    \"Saint Paul\": \"MN\",\n",
    "    \"Chicago\": \"IL\",\n",
    "    \"Denver\": \"CO\"\n",
    "}\n",
    "\n",
    "print(city[\"Chicago\"])\n",
    "\n",
    "# Adding key-value\n",
    "city[\"Moose Lake\"] = \"MN\"\n",
    "\n",
    "print(city[\"Moose Lake\"])"
   ]
  },
  {
   "cell_type": "markdown",
   "metadata": {},
   "source": [
    "_________________________________________________________________"
   ]
  },
  {
   "cell_type": "markdown",
   "metadata": {},
   "source": [
    "____________________________________________________________\n",
    "\n",
    "<font color=\"green\"><b>Author:</b></font> Jeremiah Carlson <br>\n",
    "<font color=\"green\"><b>Published:</b></font> 7 March 2022 <br>\n",
    "<font color=\"green\"><b>Last Update:</b></font> 7 March 2022"
   ]
  }
 ],
 "metadata": {
  "interpreter": {
   "hash": "9b65e3f165b9ab6886d5ca8424d575f5b16bbb36049fd86f168802c37613562d"
  },
  "kernelspec": {
   "display_name": "Python 3.8.8 ('base')",
   "language": "python",
   "name": "python3"
  },
  "language_info": {
   "codemirror_mode": {
    "name": "ipython",
    "version": 3
   },
   "file_extension": ".py",
   "mimetype": "text/x-python",
   "name": "python",
   "nbconvert_exporter": "python",
   "pygments_lexer": "ipython3",
   "version": "3.8.8"
  },
  "orig_nbformat": 4
 },
 "nbformat": 4,
 "nbformat_minor": 2
}
