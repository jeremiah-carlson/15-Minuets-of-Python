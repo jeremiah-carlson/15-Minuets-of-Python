{
 "cells": [
  {
   "attachments": {},
   "cell_type": "markdown",
   "metadata": {},
   "source": [
    "# 1. Linked Lists\n",
    "\n",
    "A linked list is a node based datastructure composed of exclusively of nodes. In a singly linked list each node has a value and a pointer. The value can be any object or datastructure. The pointer, typically refered to as `next`, always point to the next node in the linked list unless the node is the final node in the linked list. The pointer of the final node will have a value of `None`."
   ]
  },
  {
   "cell_type": "code",
   "execution_count": 3,
   "metadata": {},
   "outputs": [],
   "source": [
    "from typing import Any"
   ]
  },
  {
   "cell_type": "code",
   "execution_count": 4,
   "metadata": {},
   "outputs": [],
   "source": [
    "class Node():\n",
    "    \n",
    "    \n",
    "    def __init__(self, value: Any, next=None):\n",
    "        self.value = value\n",
    "        self.next = next\n",
    "\n",
    "class LinkedList():\n",
    "    head: Node | None = None\n",
    "\n",
    "\n",
    "    def print(self):\n",
    "      node = self.head\n",
    "\n",
    "      while node.next is not None:\n",
    "        print(node.value)\n",
    "        node = node.next\n",
    "\n",
    "      print(node.value)\n",
    "\n",
    "    #--- Left-hand methods start ---#\n",
    "\n",
    "    def lpush(self, new_node: Node):\n",
    "      (self.head, new_node.next) = (new_node, self.head)\n",
    "\n",
    "\n",
    "    def lpop(self)-> Node | None:\n",
    "      if self.head is None:\n",
    "        return None\n",
    "      else:\n",
    "        (out, self.head) = (self.head, self.head.next)\n",
    "        return out\n",
    "             \n",
    "    #--- Left-hand methods end ---#\n",
    "\n",
    "    def search(self, value: Any):\n",
    "       node = self.head\n",
    "\n",
    "       if node is None:\n",
    "          return None\n",
    "       else:\n",
    "          while (node.next is not None) and (node.value != value):\n",
    "             node = node.next \n",
    "          \n",
    "          if node.value == value:\n",
    "             return node\n",
    "          else:\n",
    "             return None\n",
    "          \n",
    "\n",
    "    def rpush(self, new_node: Node):\n",
    "      node = self.head\n",
    "\n",
    "      if node is None:\n",
    "        self.head = new_node\n",
    "      else:\n",
    "        while node.next is not None:\n",
    "            node = node.next\n",
    "                \n",
    "        node.next = new_node\n",
    "\n",
    "    def rpop(self):\n",
    "      node = self.head\n",
    "\n",
    "      if node is None:\n",
    "        return None\n",
    "      else:\n",
    "        while node.next is not None:\n",
    "            prev_node = node\n",
    "            node = node.next\n",
    "                \n",
    "        (out, prev_node.next) = (node, None)\n",
    "        return out\n",
    "             \n"
   ]
  },
  {
   "cell_type": "code",
   "execution_count": 84,
   "metadata": {},
   "outputs": [],
   "source": [
    "ll = LinkedList()\n",
    "\n",
    "for x in [1, 4, 6, 7, 10]:\n",
    "    ll.lpush(Node(x))"
   ]
  },
  {
   "cell_type": "code",
   "execution_count": 85,
   "metadata": {},
   "outputs": [
    {
     "name": "stdout",
     "output_type": "stream",
     "text": [
      "10\n",
      "7\n",
      "6\n",
      "4\n",
      "1\n"
     ]
    }
   ],
   "source": [
    "ll.print()"
   ]
  }
 ],
 "metadata": {
  "kernelspec": {
   "display_name": "api_3_11",
   "language": "python",
   "name": "python3"
  },
  "language_info": {
   "codemirror_mode": {
    "name": "ipython",
    "version": 3
   },
   "file_extension": ".py",
   "mimetype": "text/x-python",
   "name": "python",
   "nbconvert_exporter": "python",
   "pygments_lexer": "ipython3",
   "version": "3.11.0"
  },
  "orig_nbformat": 4
 },
 "nbformat": 4,
 "nbformat_minor": 2
}
