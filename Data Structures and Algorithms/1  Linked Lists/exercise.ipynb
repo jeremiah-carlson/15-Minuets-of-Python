{
 "cells": [
  {
   "attachments": {},
   "cell_type": "markdown",
   "metadata": {},
   "source": [
    "# 1. Linked Lists\n",
    "\n",
    "A linked list is a node based datastructure composed of exclusively of nodes. In a singly linked list each node has a value and a pointer. The value can be any object or datastructure. The pointer, typically refered to as `next`, always point to the next node in the linked list unless the node is the final node in the linked list. The pointer of the final node will have a value of `None`."
   ]
  },
  {
   "cell_type": "code",
   "execution_count": null,
   "metadata": {
    "vscode": {
     "languageId": "plaintext"
    }
   },
   "outputs": [],
   "source": [
    "class Node():\n",
    "    \n",
    "    def __init__(self, value, next=None):\n",
    "        self.value = value\n",
    "        self.next = next\n",
    "\n",
    "class LinkedList():\n",
    "    head: Node\n",
    "\n",
    "\n",
    "    def print(self):\n",
    "      node = self.head\n",
    "\n",
    "      while node.next is not None:\n",
    "        print(node.value)\n",
    "        node = node.next\n",
    "\n",
    "      print(node.value)\n",
    "\n",
    "    def append(self, new_node: Node):\n",
    "        node = self.head\n",
    "\n",
    "        while node.next is not None:\n",
    "            node = node.next\n",
    "        \n",
    "        node.next = new_node\n",
    "\n"
   ]
  }
 ],
 "metadata": {
  "language_info": {
   "name": "python"
  },
  "orig_nbformat": 4
 },
 "nbformat": 4,
 "nbformat_minor": 2
}
