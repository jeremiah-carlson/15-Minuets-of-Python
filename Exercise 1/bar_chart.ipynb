{
 "cells": [
  {
   "cell_type": "markdown",
   "metadata": {},
   "source": [
    "<font color=\"purple\"><h1> Create Bar Chart </h1></font>"
   ]
  },
  {
   "cell_type": "markdown",
   "metadata": {},
   "source": [
    "<h3>-- Setup --</h3>\n",
    "<p>The two cells bellow are required to be ran to set up the Google Colab environment but are not part of this exercise.</p>"
   ]
  },
  {
   "cell_type": "code",
   "execution_count": null,
   "metadata": {},
   "outputs": [],
   "source": [
    "import os\n",
    "import sys\n",
    "os.environ['IN_COLAB'] = str('google.colab' in sys.modules)"
   ]
  },
  {
   "cell_type": "code",
   "execution_count": null,
   "metadata": {},
   "outputs": [],
   "source": [
    "%%bash\n",
    "if [ \"$IN_COLAB\" == \"True\" ]; then\n",
    "  mkdir /content/data\n",
    "  wget -O data/2020-21_County_Data.csv https://raw.githubusercontent.com/jeremiah-carlson/15-Minuets-of-Python/master/Exercise%201/data/2020-21_County_Data.csv\n",
    "else\n",
    "  echo \"Enviornment is not Google Colab\"\n",
    "fi"
   ]
  },
  {
   "cell_type": "markdown",
   "metadata": {},
   "source": [
    "_________________________________________"
   ]
  },
  {
   "cell_type": "markdown",
   "metadata": {},
   "source": [
    "<h3>-- Sample --</h3>"
   ]
  },
  {
   "cell_type": "markdown",
   "metadata": {},
   "source": [
    "Bellow is a sample of reading in a pickle file and using the result data frame to produce a plotly bar graph. \n",
    "\n",
    "**Docs**\n",
    "<ul>\n",
    "    <li><a href=\"https://pandas.pydata.org/docs/reference/api/pandas.read_pickle.html\"> pd.read_pickle() </a>\n",
    "    <li><a href=\"https://pandas.pydata.org/docs/reference/api/pandas.DataFrame.head.html\"> df.head() </a>\n",
    "    <li><a href=\"https://pandas.pydata.org/docs/reference/api/pandas.DataFrame.query.html\"> df.query() </a>\n",
    "    <li><a href=\"https://pandas.pydata.org/docs/reference/api/pandas.DataFrame.astype.html\"> df.astype() </a>\n",
    "    <li><a href=\"https://plotly.com/python/bar-charts/\"> px.bar() </a>\n",
    "</ul>"
   ]
  },
  {
   "cell_type": "code",
   "execution_count": 1,
   "metadata": {},
   "outputs": [],
   "source": [
    "# Imports\n",
    "import pandas as pd\n",
    "import plotly.express as px"
   ]
  },
  {
   "cell_type": "code",
   "execution_count": 24,
   "metadata": {},
   "outputs": [
    {
     "name": "stderr",
     "output_type": "stream",
     "text": [
      "C:\\Users\\jcarlson\\Anaconda3\\envs\\fast_api2\\lib\\site-packages\\IPython\\core\\interactiveshell.py:3172: DtypeWarning:\n",
      "\n",
      "Columns (1,3) have mixed types.Specify dtype option on import or set low_memory=False.\n",
      "\n"
     ]
    },
    {
     "data": {
      "text/html": [
       "<div>\n",
       "<style scoped>\n",
       "    .dataframe tbody tr th:only-of-type {\n",
       "        vertical-align: middle;\n",
       "    }\n",
       "\n",
       "    .dataframe tbody tr th {\n",
       "        vertical-align: top;\n",
       "    }\n",
       "\n",
       "    .dataframe thead th {\n",
       "        text-align: right;\n",
       "    }\n",
       "</style>\n",
       "<table border=\"1\" class=\"dataframe\">\n",
       "  <thead>\n",
       "    <tr style=\"text-align: right;\">\n",
       "      <th></th>\n",
       "      <th>reporting_year</th>\n",
       "      <th>lea_code</th>\n",
       "      <th>lea_name</th>\n",
       "      <th>school_code</th>\n",
       "      <th>school_name</th>\n",
       "      <th>sbe_region</th>\n",
       "      <th>grade_span</th>\n",
       "      <th>title_1</th>\n",
       "      <th>subgroup</th>\n",
       "      <th>subject</th>\n",
       "      <th>den</th>\n",
       "      <th>total_pct</th>\n",
       "      <th>notprof_pct</th>\n",
       "      <th>lev1_pct</th>\n",
       "      <th>lev2_pct</th>\n",
       "      <th>lev3_pct</th>\n",
       "      <th>lev4_pct</th>\n",
       "      <th>lev5_pct</th>\n",
       "      <th>glp_pct</th>\n",
       "      <th>ccr_pct</th>\n",
       "    </tr>\n",
       "  </thead>\n",
       "  <tbody>\n",
       "    <tr>\n",
       "      <th>0</th>\n",
       "      <td>2021</td>\n",
       "      <td>NC</td>\n",
       "      <td>State of North Carolina</td>\n",
       "      <td>NC</td>\n",
       "      <td>State of North Carolina</td>\n",
       "      <td>NaN</td>\n",
       "      <td>NaN</td>\n",
       "      <td>NaN</td>\n",
       "      <td>AIG</td>\n",
       "      <td>ACT</td>\n",
       "      <td>16770</td>\n",
       "      <td>94.7</td>\n",
       "      <td>NaN</td>\n",
       "      <td>NaN</td>\n",
       "      <td>NaN</td>\n",
       "      <td>NaN</td>\n",
       "      <td>NaN</td>\n",
       "      <td>NaN</td>\n",
       "      <td>NaN</td>\n",
       "      <td>NaN</td>\n",
       "    </tr>\n",
       "    <tr>\n",
       "      <th>1</th>\n",
       "      <td>2021</td>\n",
       "      <td>NC</td>\n",
       "      <td>State of North Carolina</td>\n",
       "      <td>NC</td>\n",
       "      <td>State of North Carolina</td>\n",
       "      <td>NaN</td>\n",
       "      <td>NaN</td>\n",
       "      <td>NaN</td>\n",
       "      <td>ALL</td>\n",
       "      <td>ACT</td>\n",
       "      <td>86785</td>\n",
       "      <td>55.2</td>\n",
       "      <td>NaN</td>\n",
       "      <td>NaN</td>\n",
       "      <td>NaN</td>\n",
       "      <td>NaN</td>\n",
       "      <td>NaN</td>\n",
       "      <td>NaN</td>\n",
       "      <td>NaN</td>\n",
       "      <td>NaN</td>\n",
       "    </tr>\n",
       "    <tr>\n",
       "      <th>2</th>\n",
       "      <td>2021</td>\n",
       "      <td>NC</td>\n",
       "      <td>State of North Carolina</td>\n",
       "      <td>NC</td>\n",
       "      <td>State of North Carolina</td>\n",
       "      <td>NaN</td>\n",
       "      <td>NaN</td>\n",
       "      <td>NaN</td>\n",
       "      <td>AMIN</td>\n",
       "      <td>ACT</td>\n",
       "      <td>885</td>\n",
       "      <td>36.6</td>\n",
       "      <td>NaN</td>\n",
       "      <td>NaN</td>\n",
       "      <td>NaN</td>\n",
       "      <td>NaN</td>\n",
       "      <td>NaN</td>\n",
       "      <td>NaN</td>\n",
       "      <td>NaN</td>\n",
       "      <td>NaN</td>\n",
       "    </tr>\n",
       "    <tr>\n",
       "      <th>3</th>\n",
       "      <td>2021</td>\n",
       "      <td>NC</td>\n",
       "      <td>State of North Carolina</td>\n",
       "      <td>NC</td>\n",
       "      <td>State of North Carolina</td>\n",
       "      <td>NaN</td>\n",
       "      <td>NaN</td>\n",
       "      <td>NaN</td>\n",
       "      <td>ASIA</td>\n",
       "      <td>ACT</td>\n",
       "      <td>3157</td>\n",
       "      <td>79.6</td>\n",
       "      <td>NaN</td>\n",
       "      <td>NaN</td>\n",
       "      <td>NaN</td>\n",
       "      <td>NaN</td>\n",
       "      <td>NaN</td>\n",
       "      <td>NaN</td>\n",
       "      <td>NaN</td>\n",
       "      <td>NaN</td>\n",
       "    </tr>\n",
       "    <tr>\n",
       "      <th>4</th>\n",
       "      <td>2021</td>\n",
       "      <td>NC</td>\n",
       "      <td>State of North Carolina</td>\n",
       "      <td>NC</td>\n",
       "      <td>State of North Carolina</td>\n",
       "      <td>NaN</td>\n",
       "      <td>NaN</td>\n",
       "      <td>NaN</td>\n",
       "      <td>BLCK</td>\n",
       "      <td>ACT</td>\n",
       "      <td>18375</td>\n",
       "      <td>30.1</td>\n",
       "      <td>NaN</td>\n",
       "      <td>NaN</td>\n",
       "      <td>NaN</td>\n",
       "      <td>NaN</td>\n",
       "      <td>NaN</td>\n",
       "      <td>NaN</td>\n",
       "      <td>NaN</td>\n",
       "      <td>NaN</td>\n",
       "    </tr>\n",
       "    <tr>\n",
       "      <th>...</th>\n",
       "      <td>...</td>\n",
       "      <td>...</td>\n",
       "      <td>...</td>\n",
       "      <td>...</td>\n",
       "      <td>...</td>\n",
       "      <td>...</td>\n",
       "      <td>...</td>\n",
       "      <td>...</td>\n",
       "      <td>...</td>\n",
       "      <td>...</td>\n",
       "      <td>...</td>\n",
       "      <td>...</td>\n",
       "      <td>...</td>\n",
       "      <td>...</td>\n",
       "      <td>...</td>\n",
       "      <td>...</td>\n",
       "      <td>...</td>\n",
       "      <td>...</td>\n",
       "      <td>...</td>\n",
       "      <td>...</td>\n",
       "    </tr>\n",
       "    <tr>\n",
       "      <th>675608</th>\n",
       "      <td>2021</td>\n",
       "      <td>98B</td>\n",
       "      <td>Charter Schools</td>\n",
       "      <td>98B000</td>\n",
       "      <td>Wilson Preparatory Academy</td>\n",
       "      <td>North Central</td>\n",
       "      <td>0K-12</td>\n",
       "      <td>Y</td>\n",
       "      <td>NEDS</td>\n",
       "      <td>SCGS</td>\n",
       "      <td>84</td>\n",
       "      <td>NaN</td>\n",
       "      <td>32.1</td>\n",
       "      <td>NaN</td>\n",
       "      <td>NaN</td>\n",
       "      <td>13.1</td>\n",
       "      <td>44.0</td>\n",
       "      <td>10.7</td>\n",
       "      <td>67.9</td>\n",
       "      <td>54.8</td>\n",
       "    </tr>\n",
       "    <tr>\n",
       "      <th>675609</th>\n",
       "      <td>2021</td>\n",
       "      <td>98B</td>\n",
       "      <td>Charter Schools</td>\n",
       "      <td>98B000</td>\n",
       "      <td>Wilson Preparatory Academy</td>\n",
       "      <td>North Central</td>\n",
       "      <td>0K-12</td>\n",
       "      <td>Y</td>\n",
       "      <td>NELS</td>\n",
       "      <td>SCGS</td>\n",
       "      <td>129</td>\n",
       "      <td>NaN</td>\n",
       "      <td>40.3</td>\n",
       "      <td>NaN</td>\n",
       "      <td>NaN</td>\n",
       "      <td>13.2</td>\n",
       "      <td>38.8</td>\n",
       "      <td>7.8</td>\n",
       "      <td>59.7</td>\n",
       "      <td>46.5</td>\n",
       "    </tr>\n",
       "    <tr>\n",
       "      <th>675610</th>\n",
       "      <td>2021</td>\n",
       "      <td>98B</td>\n",
       "      <td>Charter Schools</td>\n",
       "      <td>98B000</td>\n",
       "      <td>Wilson Preparatory Academy</td>\n",
       "      <td>North Central</td>\n",
       "      <td>0K-12</td>\n",
       "      <td>Y</td>\n",
       "      <td>NSWD</td>\n",
       "      <td>SCGS</td>\n",
       "      <td>122</td>\n",
       "      <td>NaN</td>\n",
       "      <td>37.7</td>\n",
       "      <td>NaN</td>\n",
       "      <td>NaN</td>\n",
       "      <td>13.9</td>\n",
       "      <td>40.2</td>\n",
       "      <td>8.2</td>\n",
       "      <td>62.3</td>\n",
       "      <td>48.4</td>\n",
       "    </tr>\n",
       "    <tr>\n",
       "      <th>675611</th>\n",
       "      <td>2021</td>\n",
       "      <td>98B</td>\n",
       "      <td>Charter Schools</td>\n",
       "      <td>98B000</td>\n",
       "      <td>Wilson Preparatory Academy</td>\n",
       "      <td>North Central</td>\n",
       "      <td>0K-12</td>\n",
       "      <td>Y</td>\n",
       "      <td>SWD</td>\n",
       "      <td>SCGS</td>\n",
       "      <td>10</td>\n",
       "      <td>NaN</td>\n",
       "      <td>80.0</td>\n",
       "      <td>NaN</td>\n",
       "      <td>NaN</td>\n",
       "      <td>&lt;5</td>\n",
       "      <td>20.0</td>\n",
       "      <td>&lt;5</td>\n",
       "      <td>20.0</td>\n",
       "      <td>20.0</td>\n",
       "    </tr>\n",
       "    <tr>\n",
       "      <th>675612</th>\n",
       "      <td>2021</td>\n",
       "      <td>98B</td>\n",
       "      <td>Charter Schools</td>\n",
       "      <td>98B000</td>\n",
       "      <td>Wilson Preparatory Academy</td>\n",
       "      <td>North Central</td>\n",
       "      <td>0K-12</td>\n",
       "      <td>Y</td>\n",
       "      <td>WHTE</td>\n",
       "      <td>SCGS</td>\n",
       "      <td>44</td>\n",
       "      <td>NaN</td>\n",
       "      <td>20.5</td>\n",
       "      <td>NaN</td>\n",
       "      <td>NaN</td>\n",
       "      <td>18.2</td>\n",
       "      <td>45.5</td>\n",
       "      <td>15.9</td>\n",
       "      <td>79.5</td>\n",
       "      <td>61.4</td>\n",
       "    </tr>\n",
       "  </tbody>\n",
       "</table>\n",
       "<p>675613 rows × 20 columns</p>\n",
       "</div>"
      ],
      "text/plain": [
       "        reporting_year lea_code                 lea_name school_code  \\\n",
       "0                 2021       NC  State of North Carolina          NC   \n",
       "1                 2021       NC  State of North Carolina          NC   \n",
       "2                 2021       NC  State of North Carolina          NC   \n",
       "3                 2021       NC  State of North Carolina          NC   \n",
       "4                 2021       NC  State of North Carolina          NC   \n",
       "...                ...      ...                      ...         ...   \n",
       "675608            2021      98B          Charter Schools      98B000   \n",
       "675609            2021      98B          Charter Schools      98B000   \n",
       "675610            2021      98B          Charter Schools      98B000   \n",
       "675611            2021      98B          Charter Schools      98B000   \n",
       "675612            2021      98B          Charter Schools      98B000   \n",
       "\n",
       "                       school_name     sbe_region grade_span title_1 subgroup  \\\n",
       "0          State of North Carolina            NaN        NaN     NaN      AIG   \n",
       "1          State of North Carolina            NaN        NaN     NaN      ALL   \n",
       "2          State of North Carolina            NaN        NaN     NaN     AMIN   \n",
       "3          State of North Carolina            NaN        NaN     NaN     ASIA   \n",
       "4          State of North Carolina            NaN        NaN     NaN     BLCK   \n",
       "...                            ...            ...        ...     ...      ...   \n",
       "675608  Wilson Preparatory Academy  North Central      0K-12       Y     NEDS   \n",
       "675609  Wilson Preparatory Academy  North Central      0K-12       Y     NELS   \n",
       "675610  Wilson Preparatory Academy  North Central      0K-12       Y     NSWD   \n",
       "675611  Wilson Preparatory Academy  North Central      0K-12       Y      SWD   \n",
       "675612  Wilson Preparatory Academy  North Central      0K-12       Y     WHTE   \n",
       "\n",
       "       subject    den total_pct notprof_pct lev1_pct lev2_pct lev3_pct  \\\n",
       "0          ACT  16770      94.7         NaN      NaN      NaN      NaN   \n",
       "1          ACT  86785      55.2         NaN      NaN      NaN      NaN   \n",
       "2          ACT    885      36.6         NaN      NaN      NaN      NaN   \n",
       "3          ACT   3157      79.6         NaN      NaN      NaN      NaN   \n",
       "4          ACT  18375      30.1         NaN      NaN      NaN      NaN   \n",
       "...        ...    ...       ...         ...      ...      ...      ...   \n",
       "675608    SCGS     84       NaN        32.1      NaN      NaN     13.1   \n",
       "675609    SCGS    129       NaN        40.3      NaN      NaN     13.2   \n",
       "675610    SCGS    122       NaN        37.7      NaN      NaN     13.9   \n",
       "675611    SCGS     10       NaN        80.0      NaN      NaN       <5   \n",
       "675612    SCGS     44       NaN        20.5      NaN      NaN     18.2   \n",
       "\n",
       "       lev4_pct lev5_pct glp_pct ccr_pct  \n",
       "0           NaN      NaN     NaN     NaN  \n",
       "1           NaN      NaN     NaN     NaN  \n",
       "2           NaN      NaN     NaN     NaN  \n",
       "3           NaN      NaN     NaN     NaN  \n",
       "4           NaN      NaN     NaN     NaN  \n",
       "...         ...      ...     ...     ...  \n",
       "675608     44.0     10.7    67.9    54.8  \n",
       "675609     38.8      7.8    59.7    46.5  \n",
       "675610     40.2      8.2    62.3    48.4  \n",
       "675611     20.0       <5    20.0    20.0  \n",
       "675612     45.5     15.9    79.5    61.4  \n",
       "\n",
       "[675613 rows x 20 columns]"
      ]
     },
     "execution_count": 24,
     "metadata": {},
     "output_type": "execute_result"
    }
   ],
   "source": [
    "# Read Data\n",
    "\n",
    "df = pd.read_csv('data\\\\2020-21_County_Data.csv')\n",
    "df.head()"
   ]
  },
  {
   "cell_type": "code",
   "execution_count": 6,
   "metadata": {},
   "outputs": [
    {
     "data": {
      "application/vnd.plotly.v1+json": {
       "config": {
        "plotlyServerURL": "https://plot.ly"
       },
       "data": [
        {
         "alignmentgroup": "True",
         "hovertemplate": "school_name=%{x}<br>glp_pct=%{y}<extra></extra>",
         "legendgroup": "Charter Day School",
         "marker": {
          "color": "#636efa",
          "pattern": {
           "shape": ""
          }
         },
         "name": "Charter Day School",
         "offsetgroup": "Charter Day School",
         "orientation": "v",
         "showlegend": true,
         "textposition": "auto",
         "type": "bar",
         "x": [
          "Charter Day School"
         ],
         "xaxis": "x",
         "y": [
          59.4
         ],
         "yaxis": "y"
        },
        {
         "alignmentgroup": "True",
         "hovertemplate": "school_name=%{x}<br>glp_pct=%{y}<extra></extra>",
         "legendgroup": "South Brunswick Charter",
         "marker": {
          "color": "#EF553B",
          "pattern": {
           "shape": ""
          }
         },
         "name": "South Brunswick Charter",
         "offsetgroup": "South Brunswick Charter",
         "orientation": "v",
         "showlegend": true,
         "textposition": "auto",
         "type": "bar",
         "x": [
          "South Brunswick Charter"
         ],
         "xaxis": "x",
         "y": [
          58.3
         ],
         "yaxis": "y"
        },
        {
         "alignmentgroup": "True",
         "hovertemplate": "school_name=%{x}<br>glp_pct=%{y}<extra></extra>",
         "legendgroup": "Columbus Charter School",
         "marker": {
          "color": "#00cc96",
          "pattern": {
           "shape": ""
          }
         },
         "name": "Columbus Charter School",
         "offsetgroup": "Columbus Charter School",
         "orientation": "v",
         "showlegend": true,
         "textposition": "auto",
         "type": "bar",
         "x": [
          "Columbus Charter School"
         ],
         "xaxis": "x",
         "y": [
          39.8
         ],
         "yaxis": "y"
        },
        {
         "alignmentgroup": "True",
         "hovertemplate": "school_name=%{x}<br>glp_pct=%{y}<extra></extra>",
         "legendgroup": "Douglass Academy",
         "marker": {
          "color": "#ab63fa",
          "pattern": {
           "shape": ""
          }
         },
         "name": "Douglass Academy",
         "offsetgroup": "Douglass Academy",
         "orientation": "v",
         "showlegend": true,
         "textposition": "auto",
         "type": "bar",
         "x": [
          "Douglass Academy"
         ],
         "xaxis": "x",
         "y": [
          36.5
         ],
         "yaxis": "y"
        }
       ],
       "layout": {
        "barmode": "relative",
        "legend": {
         "title": {
          "text": "school_name"
         },
         "tracegroupgap": 0
        },
        "template": {
         "data": {
          "bar": [
           {
            "error_x": {
             "color": "#2a3f5f"
            },
            "error_y": {
             "color": "#2a3f5f"
            },
            "marker": {
             "line": {
              "color": "#E5ECF6",
              "width": 0.5
             },
             "pattern": {
              "fillmode": "overlay",
              "size": 10,
              "solidity": 0.2
             }
            },
            "type": "bar"
           }
          ],
          "barpolar": [
           {
            "marker": {
             "line": {
              "color": "#E5ECF6",
              "width": 0.5
             },
             "pattern": {
              "fillmode": "overlay",
              "size": 10,
              "solidity": 0.2
             }
            },
            "type": "barpolar"
           }
          ],
          "carpet": [
           {
            "aaxis": {
             "endlinecolor": "#2a3f5f",
             "gridcolor": "white",
             "linecolor": "white",
             "minorgridcolor": "white",
             "startlinecolor": "#2a3f5f"
            },
            "baxis": {
             "endlinecolor": "#2a3f5f",
             "gridcolor": "white",
             "linecolor": "white",
             "minorgridcolor": "white",
             "startlinecolor": "#2a3f5f"
            },
            "type": "carpet"
           }
          ],
          "choropleth": [
           {
            "colorbar": {
             "outlinewidth": 0,
             "ticks": ""
            },
            "type": "choropleth"
           }
          ],
          "contour": [
           {
            "colorbar": {
             "outlinewidth": 0,
             "ticks": ""
            },
            "colorscale": [
             [
              0,
              "#0d0887"
             ],
             [
              0.1111111111111111,
              "#46039f"
             ],
             [
              0.2222222222222222,
              "#7201a8"
             ],
             [
              0.3333333333333333,
              "#9c179e"
             ],
             [
              0.4444444444444444,
              "#bd3786"
             ],
             [
              0.5555555555555556,
              "#d8576b"
             ],
             [
              0.6666666666666666,
              "#ed7953"
             ],
             [
              0.7777777777777778,
              "#fb9f3a"
             ],
             [
              0.8888888888888888,
              "#fdca26"
             ],
             [
              1,
              "#f0f921"
             ]
            ],
            "type": "contour"
           }
          ],
          "contourcarpet": [
           {
            "colorbar": {
             "outlinewidth": 0,
             "ticks": ""
            },
            "type": "contourcarpet"
           }
          ],
          "heatmap": [
           {
            "colorbar": {
             "outlinewidth": 0,
             "ticks": ""
            },
            "colorscale": [
             [
              0,
              "#0d0887"
             ],
             [
              0.1111111111111111,
              "#46039f"
             ],
             [
              0.2222222222222222,
              "#7201a8"
             ],
             [
              0.3333333333333333,
              "#9c179e"
             ],
             [
              0.4444444444444444,
              "#bd3786"
             ],
             [
              0.5555555555555556,
              "#d8576b"
             ],
             [
              0.6666666666666666,
              "#ed7953"
             ],
             [
              0.7777777777777778,
              "#fb9f3a"
             ],
             [
              0.8888888888888888,
              "#fdca26"
             ],
             [
              1,
              "#f0f921"
             ]
            ],
            "type": "heatmap"
           }
          ],
          "heatmapgl": [
           {
            "colorbar": {
             "outlinewidth": 0,
             "ticks": ""
            },
            "colorscale": [
             [
              0,
              "#0d0887"
             ],
             [
              0.1111111111111111,
              "#46039f"
             ],
             [
              0.2222222222222222,
              "#7201a8"
             ],
             [
              0.3333333333333333,
              "#9c179e"
             ],
             [
              0.4444444444444444,
              "#bd3786"
             ],
             [
              0.5555555555555556,
              "#d8576b"
             ],
             [
              0.6666666666666666,
              "#ed7953"
             ],
             [
              0.7777777777777778,
              "#fb9f3a"
             ],
             [
              0.8888888888888888,
              "#fdca26"
             ],
             [
              1,
              "#f0f921"
             ]
            ],
            "type": "heatmapgl"
           }
          ],
          "histogram": [
           {
            "marker": {
             "pattern": {
              "fillmode": "overlay",
              "size": 10,
              "solidity": 0.2
             }
            },
            "type": "histogram"
           }
          ],
          "histogram2d": [
           {
            "colorbar": {
             "outlinewidth": 0,
             "ticks": ""
            },
            "colorscale": [
             [
              0,
              "#0d0887"
             ],
             [
              0.1111111111111111,
              "#46039f"
             ],
             [
              0.2222222222222222,
              "#7201a8"
             ],
             [
              0.3333333333333333,
              "#9c179e"
             ],
             [
              0.4444444444444444,
              "#bd3786"
             ],
             [
              0.5555555555555556,
              "#d8576b"
             ],
             [
              0.6666666666666666,
              "#ed7953"
             ],
             [
              0.7777777777777778,
              "#fb9f3a"
             ],
             [
              0.8888888888888888,
              "#fdca26"
             ],
             [
              1,
              "#f0f921"
             ]
            ],
            "type": "histogram2d"
           }
          ],
          "histogram2dcontour": [
           {
            "colorbar": {
             "outlinewidth": 0,
             "ticks": ""
            },
            "colorscale": [
             [
              0,
              "#0d0887"
             ],
             [
              0.1111111111111111,
              "#46039f"
             ],
             [
              0.2222222222222222,
              "#7201a8"
             ],
             [
              0.3333333333333333,
              "#9c179e"
             ],
             [
              0.4444444444444444,
              "#bd3786"
             ],
             [
              0.5555555555555556,
              "#d8576b"
             ],
             [
              0.6666666666666666,
              "#ed7953"
             ],
             [
              0.7777777777777778,
              "#fb9f3a"
             ],
             [
              0.8888888888888888,
              "#fdca26"
             ],
             [
              1,
              "#f0f921"
             ]
            ],
            "type": "histogram2dcontour"
           }
          ],
          "mesh3d": [
           {
            "colorbar": {
             "outlinewidth": 0,
             "ticks": ""
            },
            "type": "mesh3d"
           }
          ],
          "parcoords": [
           {
            "line": {
             "colorbar": {
              "outlinewidth": 0,
              "ticks": ""
             }
            },
            "type": "parcoords"
           }
          ],
          "pie": [
           {
            "automargin": true,
            "type": "pie"
           }
          ],
          "scatter": [
           {
            "marker": {
             "colorbar": {
              "outlinewidth": 0,
              "ticks": ""
             }
            },
            "type": "scatter"
           }
          ],
          "scatter3d": [
           {
            "line": {
             "colorbar": {
              "outlinewidth": 0,
              "ticks": ""
             }
            },
            "marker": {
             "colorbar": {
              "outlinewidth": 0,
              "ticks": ""
             }
            },
            "type": "scatter3d"
           }
          ],
          "scattercarpet": [
           {
            "marker": {
             "colorbar": {
              "outlinewidth": 0,
              "ticks": ""
             }
            },
            "type": "scattercarpet"
           }
          ],
          "scattergeo": [
           {
            "marker": {
             "colorbar": {
              "outlinewidth": 0,
              "ticks": ""
             }
            },
            "type": "scattergeo"
           }
          ],
          "scattergl": [
           {
            "marker": {
             "colorbar": {
              "outlinewidth": 0,
              "ticks": ""
             }
            },
            "type": "scattergl"
           }
          ],
          "scattermapbox": [
           {
            "marker": {
             "colorbar": {
              "outlinewidth": 0,
              "ticks": ""
             }
            },
            "type": "scattermapbox"
           }
          ],
          "scatterpolar": [
           {
            "marker": {
             "colorbar": {
              "outlinewidth": 0,
              "ticks": ""
             }
            },
            "type": "scatterpolar"
           }
          ],
          "scatterpolargl": [
           {
            "marker": {
             "colorbar": {
              "outlinewidth": 0,
              "ticks": ""
             }
            },
            "type": "scatterpolargl"
           }
          ],
          "scatterternary": [
           {
            "marker": {
             "colorbar": {
              "outlinewidth": 0,
              "ticks": ""
             }
            },
            "type": "scatterternary"
           }
          ],
          "surface": [
           {
            "colorbar": {
             "outlinewidth": 0,
             "ticks": ""
            },
            "colorscale": [
             [
              0,
              "#0d0887"
             ],
             [
              0.1111111111111111,
              "#46039f"
             ],
             [
              0.2222222222222222,
              "#7201a8"
             ],
             [
              0.3333333333333333,
              "#9c179e"
             ],
             [
              0.4444444444444444,
              "#bd3786"
             ],
             [
              0.5555555555555556,
              "#d8576b"
             ],
             [
              0.6666666666666666,
              "#ed7953"
             ],
             [
              0.7777777777777778,
              "#fb9f3a"
             ],
             [
              0.8888888888888888,
              "#fdca26"
             ],
             [
              1,
              "#f0f921"
             ]
            ],
            "type": "surface"
           }
          ],
          "table": [
           {
            "cells": {
             "fill": {
              "color": "#EBF0F8"
             },
             "line": {
              "color": "white"
             }
            },
            "header": {
             "fill": {
              "color": "#C8D4E3"
             },
             "line": {
              "color": "white"
             }
            },
            "type": "table"
           }
          ]
         },
         "layout": {
          "annotationdefaults": {
           "arrowcolor": "#2a3f5f",
           "arrowhead": 0,
           "arrowwidth": 1
          },
          "autotypenumbers": "strict",
          "coloraxis": {
           "colorbar": {
            "outlinewidth": 0,
            "ticks": ""
           }
          },
          "colorscale": {
           "diverging": [
            [
             0,
             "#8e0152"
            ],
            [
             0.1,
             "#c51b7d"
            ],
            [
             0.2,
             "#de77ae"
            ],
            [
             0.3,
             "#f1b6da"
            ],
            [
             0.4,
             "#fde0ef"
            ],
            [
             0.5,
             "#f7f7f7"
            ],
            [
             0.6,
             "#e6f5d0"
            ],
            [
             0.7,
             "#b8e186"
            ],
            [
             0.8,
             "#7fbc41"
            ],
            [
             0.9,
             "#4d9221"
            ],
            [
             1,
             "#276419"
            ]
           ],
           "sequential": [
            [
             0,
             "#0d0887"
            ],
            [
             0.1111111111111111,
             "#46039f"
            ],
            [
             0.2222222222222222,
             "#7201a8"
            ],
            [
             0.3333333333333333,
             "#9c179e"
            ],
            [
             0.4444444444444444,
             "#bd3786"
            ],
            [
             0.5555555555555556,
             "#d8576b"
            ],
            [
             0.6666666666666666,
             "#ed7953"
            ],
            [
             0.7777777777777778,
             "#fb9f3a"
            ],
            [
             0.8888888888888888,
             "#fdca26"
            ],
            [
             1,
             "#f0f921"
            ]
           ],
           "sequentialminus": [
            [
             0,
             "#0d0887"
            ],
            [
             0.1111111111111111,
             "#46039f"
            ],
            [
             0.2222222222222222,
             "#7201a8"
            ],
            [
             0.3333333333333333,
             "#9c179e"
            ],
            [
             0.4444444444444444,
             "#bd3786"
            ],
            [
             0.5555555555555556,
             "#d8576b"
            ],
            [
             0.6666666666666666,
             "#ed7953"
            ],
            [
             0.7777777777777778,
             "#fb9f3a"
            ],
            [
             0.8888888888888888,
             "#fdca26"
            ],
            [
             1,
             "#f0f921"
            ]
           ]
          },
          "colorway": [
           "#636efa",
           "#EF553B",
           "#00cc96",
           "#ab63fa",
           "#FFA15A",
           "#19d3f3",
           "#FF6692",
           "#B6E880",
           "#FF97FF",
           "#FECB52"
          ],
          "font": {
           "color": "#2a3f5f"
          },
          "geo": {
           "bgcolor": "white",
           "lakecolor": "white",
           "landcolor": "#E5ECF6",
           "showlakes": true,
           "showland": true,
           "subunitcolor": "white"
          },
          "hoverlabel": {
           "align": "left"
          },
          "hovermode": "closest",
          "mapbox": {
           "style": "light"
          },
          "paper_bgcolor": "white",
          "plot_bgcolor": "#E5ECF6",
          "polar": {
           "angularaxis": {
            "gridcolor": "white",
            "linecolor": "white",
            "ticks": ""
           },
           "bgcolor": "#E5ECF6",
           "radialaxis": {
            "gridcolor": "white",
            "linecolor": "white",
            "ticks": ""
           }
          },
          "scene": {
           "xaxis": {
            "backgroundcolor": "#E5ECF6",
            "gridcolor": "white",
            "gridwidth": 2,
            "linecolor": "white",
            "showbackground": true,
            "ticks": "",
            "zerolinecolor": "white"
           },
           "yaxis": {
            "backgroundcolor": "#E5ECF6",
            "gridcolor": "white",
            "gridwidth": 2,
            "linecolor": "white",
            "showbackground": true,
            "ticks": "",
            "zerolinecolor": "white"
           },
           "zaxis": {
            "backgroundcolor": "#E5ECF6",
            "gridcolor": "white",
            "gridwidth": 2,
            "linecolor": "white",
            "showbackground": true,
            "ticks": "",
            "zerolinecolor": "white"
           }
          },
          "shapedefaults": {
           "line": {
            "color": "#2a3f5f"
           }
          },
          "ternary": {
           "aaxis": {
            "gridcolor": "white",
            "linecolor": "white",
            "ticks": ""
           },
           "baxis": {
            "gridcolor": "white",
            "linecolor": "white",
            "ticks": ""
           },
           "bgcolor": "#E5ECF6",
           "caxis": {
            "gridcolor": "white",
            "linecolor": "white",
            "ticks": ""
           }
          },
          "title": {
           "x": 0.05
          },
          "xaxis": {
           "automargin": true,
           "gridcolor": "white",
           "linecolor": "white",
           "ticks": "",
           "title": {
            "standoff": 15
           },
           "zerolinecolor": "white",
           "zerolinewidth": 2
          },
          "yaxis": {
           "automargin": true,
           "gridcolor": "white",
           "linecolor": "white",
           "ticks": "",
           "title": {
            "standoff": 15
           },
           "zerolinecolor": "white",
           "zerolinewidth": 2
          }
         }
        },
        "title": {
         "text": "CCSAM EOG Grade Level Proficiency"
        },
        "xaxis": {
         "anchor": "y",
         "categoryarray": [
          "Charter Day School",
          "South Brunswick Charter",
          "Columbus Charter School",
          "Douglass Academy"
         ],
         "categoryorder": "array",
         "domain": [
          0,
          1
         ],
         "title": {
          "text": "school_name"
         }
        },
        "yaxis": {
         "anchor": "x",
         "domain": [
          0,
          1
         ],
         "title": {
          "text": "glp_pct"
         }
        }
       }
      }
     },
     "metadata": {},
     "output_type": "display_data"
    }
   ],
   "source": [
    "px.bar(df.query(\"subgroup == 'ALL' & subject == 'RDGS' & school_code == ['10A000', '24N000', '65C000', '10B000']\").astype({\"glp_pct\":float, \"ccr_pct\":float}),\n",
    "        x=\"school_name\",\n",
    "        y=\"glp_pct\",\n",
    "        color=\"school_name\",\n",
    "        title=\"CCSAM EOG Grade Level Proficiency\")"
   ]
  },
  {
   "cell_type": "markdown",
   "metadata": {},
   "source": [
    "_________________________________________"
   ]
  },
  {
   "cell_type": "markdown",
   "metadata": {},
   "source": [
    "<h3>-- Goal --</h3>"
   ]
  },
  {
   "cell_type": "markdown",
   "metadata": {},
   "source": [
    "Generate a plotly bar chart with the provided data. Let the y-axis be \"ccr_pct\" and include \"North Carolina\" within the x axis. "
   ]
  },
  {
   "cell_type": "code",
   "execution_count": null,
   "metadata": {},
   "outputs": [],
   "source": [
    "# Write your code beneath this line"
   ]
  },
  {
   "cell_type": "markdown",
   "metadata": {},
   "source": [
    "____________________________________________________________\n",
    "\n",
    "<font color=\"purple\"><b>Author:</b></font> Jeremiah Carlson <br>\n",
    "<font color=\"purple\"><b>On Behalf Of:</b></font> The Roger Bacon Academy <br>\n",
    "<font color=\"purple\"><b>Published:</b></font> 7 March 2022 <br>\n",
    "<font color=\"purple\"><b>Last Update:</b></font> 7 March 2022"
   ]
  }
 ],
 "metadata": {
  "interpreter": {
   "hash": "5f078e148cf8846e03d422236664e6de1b2ee2176039f23bde7975e2003dd9da"
  },
  "kernelspec": {
   "display_name": "Python 3.8.12 ('fast_api2')",
   "language": "python",
   "name": "python3"
  },
  "language_info": {
   "codemirror_mode": {
    "name": "ipython",
    "version": 3
   },
   "file_extension": ".py",
   "mimetype": "text/x-python",
   "name": "python",
   "nbconvert_exporter": "python",
   "pygments_lexer": "ipython3",
   "version": "3.8.12"
  },
  "orig_nbformat": 4
 },
 "nbformat": 4,
 "nbformat_minor": 2
}
